{
 "cells": [
  {
   "cell_type": "code",
   "execution_count": 34,
   "metadata": {},
   "outputs": [],
   "source": [
    "def IsLeapYear(year):\n",
    "    if year % 4 == 0:\n",
    "        if year % 100 != 0:\n",
    "            return True\n",
    "        elif year % 400 == 0:\n",
    "            return True\n",
    "    return False\n",
    "\n",
    "def DayOfTheWeek(day,month,year):\n",
    "    \n",
    "    if year < 1000:\n",
    "        return 'Enter a year higher than 1000'\n",
    "    if IsLeapYear(year) is True:\n",
    "        doomsday = {1:4,2:29,3:14,4:4,5:9,6:6,7:11,8:8,9:5,10:10,11:7,12:12}\n",
    "    else:\n",
    "        doomsday = {1:3,2:28,3:14,4:4,5:9,6:6,7:11,8:8,9:5,10:10,11:7,12:12}\n",
    "    \n",
    "    count = 0 \n",
    "    century = {10:5,11:3,12:2,13:0}\n",
    "    centurynum = [0,5,3,2]\n",
    "    answer = {0:'Sunday',1:'Monday',2:'Tuesday',3:'Wednesday',4:'Thursday',5:'Friday',6:'Saturday'}\n",
    "    \n",
    "    if int(str(year)[:2]) <= 13:\n",
    "        count += century[int(str(year)[:2])]\n",
    "    else:\n",
    "        count += centurynum[(int(str(year)[:2]) - 13) % 4]\n",
    "                                \n",
    "    count += int(str(year)[2:4]) // 12\n",
    "    remainder = int(str(year)[2:4]) % 12 \n",
    "    if remainder >= 4:\n",
    "        count += remainder // 4 \n",
    "    count += remainder\n",
    "\n",
    "    count += day - doomsday[month]\n",
    "    return answer[count % 7]\n",
    "    "
   ]
  },
  {
   "cell_type": "code",
   "execution_count": 38,
   "metadata": {},
   "outputs": [
    {
     "data": {
      "text/plain": [
       "'Sunday'"
      ]
     },
     "execution_count": 38,
     "metadata": {},
     "output_type": "execute_result"
    }
   ],
   "source": [
    "DayOfTheWeek(6,11,2022)"
   ]
  }
 ],
 "metadata": {
  "kernelspec": {
   "display_name": "Python 3",
   "language": "python",
   "name": "python3"
  },
  "language_info": {
   "codemirror_mode": {
    "name": "ipython",
    "version": 3
   },
   "file_extension": ".py",
   "mimetype": "text/x-python",
   "name": "python",
   "nbconvert_exporter": "python",
   "pygments_lexer": "ipython3",
   "version": "3.8.3"
  }
 },
 "nbformat": 4,
 "nbformat_minor": 4
}
